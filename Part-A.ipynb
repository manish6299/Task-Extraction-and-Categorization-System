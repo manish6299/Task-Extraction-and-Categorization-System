{
 "cells": [
  {
   "cell_type": "code",
   "execution_count": 10,
   "id": "a97c6106-92d1-4495-959b-6a268b8a952f",
   "metadata": {},
   "outputs": [],
   "source": [
    "import spacy\n",
    "import re\n",
    "nlp = spacy.load(\"en_core_web_sm\")\n",
    "\n",
    "action_keywords = [\"has to\", \"needs to\", \"should\", \"must\", \"is required to\", \"is expected to\"]\n",
    "\n",
    "#time pattern\n",
    "time_patterns = [\n",
    "    r'\\bby\\s+\\d{1,2}\\s*(am|pm)?\\b', \n",
    "    r'\\bbefore\\s+\\w+\\b',  \n",
    "    r'\\btomorrow\\b',\n",
    "    r'\\btoday\\b',\n",
    "    r'\\bin\\s+\\d+\\s+\\w+\\b'  \n",
    "]\n"
   ]
  },
  {
   "cell_type": "markdown",
   "id": "49474949-b874-413f-b742-8b8a0407a185",
   "metadata": {},
   "source": [
    "# Step 1: Extract tasks"
   ]
  },
  {
   "cell_type": "code",
   "execution_count": 11,
   "id": "7e65c394-6cf7-4186-9c41-8afe7af04902",
   "metadata": {},
   "outputs": [],
   "source": [
    "def extract_tasks_from_text(text):\n",
    "    doc = nlp(text)\n",
    "    tasks = []\n",
    "\n",
    "\n",
    "    for sentence in doc.sents:\n",
    "        sentence_text = sentence.text\n",
    "        sentence_lower = sentence_text.lower()\n",
    "\n",
    "    \n",
    "        if any(keyword in sentence_lower for keyword in action_keywords):\n",
    "            task = {\"who\": None, \"task\": None, \"deadline\": None}\n",
    "\n",
    "            for token in sentence:\n",
    "                if token.dep_ in {\"nsubj\", \"nsubjpass\"} and token.pos_ in {\"PROPN\", \"PRON\"}:\n",
    "                    task[\"who\"] = token.text\n",
    "                    break\n",
    "\n",
    "            for keyword in action_keywords:\n",
    "                if keyword in sentence_lower:\n",
    "                    task_start = sentence_lower.find(keyword) + len(keyword)\n",
    "                    task[\"task\"] = sentence_text[task_start:].strip()\n",
    "                    break\n",
    "\n",
    "            for pattern in time_patterns:\n",
    "                match = re.search(pattern, sentence_lower)\n",
    "                if match:\n",
    "                    task[\"deadline\"] = match.group(0)\n",
    "                    break\n",
    "\n",
    "            if task[\"task\"]:\n",
    "                tasks.append(task)\n",
    "\n",
    "    return tasks\n"
   ]
  },
  {
   "cell_type": "code",
   "execution_count": 19,
   "id": "d3077700-90ed-4b0b-8614-7428349d962f",
   "metadata": {},
   "outputs": [
    {
     "data": {
      "text/plain": [
       "[{'who': 'He', 'task': 'buy the snacks for all of us.', 'deadline': None},\n",
       " {'who': 'He',\n",
       "  'task': 'submit his assignment by 5 pm.',\n",
       "  'deadline': 'by 5 pm'}]"
      ]
     },
     "execution_count": 19,
     "metadata": {},
     "output_type": "execute_result"
    }
   ],
   "source": [
    "extracted_tasks = extract_tasks_from_text(text)\n",
    "extracted_tasks"
   ]
  },
  {
   "cell_type": "markdown",
   "id": "1cd17048-15c2-4d98-8f5e-0819a08f65c3",
   "metadata": {},
   "source": [
    "# Step 2: Categorize tasks"
   ]
  },
  {
   "cell_type": "code",
   "execution_count": 12,
   "id": "09c88447-8908-44f2-abd2-40efd7038421",
   "metadata": {},
   "outputs": [],
   "source": [
    "# Categories of tasks\n",
    "task_categories = {\n",
    "    \"Personal\": [\"buy\", \"get\", \"shop\", \"visit\"],\n",
    "    \"Academic\": [\"submit\", \"study\", \"complete\", \"assignment\", \"exam\", \"project\"],\n",
    "    \"Work\": [\"send\", \"email\", \"call\", \"schedule\", \"meeting\"],\n",
    "    \"Household\": [\"clean\", \"wash\", \"cook\", \"arrange\", \"fix\"],\n",
    "}\n",
    "\n",
    "def categorize_task_based_on_keywords(task_description):\n",
    "    doc = nlp(task_description.lower())\n",
    "    for category, keywords in task_categories.items():\n",
    "        if any(token.text in keywords for token in doc):\n",
    "            return category\n",
    "    return \"Uncategorized\"\n"
   ]
  },
  {
   "cell_type": "code",
   "execution_count": 13,
   "id": "39a4d2c0-5e4c-4be8-ba9e-c9015ed78a26",
   "metadata": {},
   "outputs": [],
   "source": [
    "def categorize_all_extracted_tasks(extracted_tasks):\n",
    "    categorized_tasks = []\n",
    "    for task in extracted_tasks:\n",
    "        category = categorize_task_based_on_keywords(task[\"task\"])\n",
    "        categorized_tasks.append((task, category))\n",
    "    return categorized_tasks\n"
   ]
  },
  {
   "cell_type": "code",
   "execution_count": 20,
   "id": "51d2fb33-2729-48f3-b9c3-adfd038c5c3e",
   "metadata": {},
   "outputs": [
    {
     "data": {
      "text/plain": [
       "[({'who': 'He', 'task': 'buy the snacks for all of us.', 'deadline': None},\n",
       "  'Personal'),\n",
       " ({'who': 'He',\n",
       "   'task': 'submit his assignment by 5 pm.',\n",
       "   'deadline': 'by 5 pm'},\n",
       "  'Academic')]"
      ]
     },
     "execution_count": 20,
     "metadata": {},
     "output_type": "execute_result"
    }
   ],
   "source": [
    "categorized_tasks = categorize_all_extracted_tasks(extracted_tasks)\n",
    "categorized_tasks"
   ]
  },
  {
   "cell_type": "markdown",
   "id": "bed35ea5-29a5-4d98-a27d-34c413b70a5e",
   "metadata": {},
   "source": [
    "# Step 3: Extract 'Who' and 'When'"
   ]
  },
  {
   "cell_type": "code",
   "execution_count": 14,
   "id": "1f0293da-3d09-4542-bff9-abdb96af09c9",
   "metadata": {},
   "outputs": [],
   "source": [
    "def extract_who_and_deadline_from_task(task):\n",
    "    return task[\"who\"], task[\"deadline\"]\n"
   ]
  },
  {
   "cell_type": "code",
   "execution_count": 15,
   "id": "6f4586f6-447c-4368-aa47-702cdf86bd21",
   "metadata": {},
   "outputs": [],
   "source": [
    "def get_who_and_when_info_for_all_tasks(categorized_tasks):\n",
    "    who_when_info = []\n",
    "    for task, _ in categorized_tasks:\n",
    "        who, when = extract_who_and_deadline_from_task(task)\n",
    "        who_when_info.append((who, when))\n",
    "    return who_when_info"
   ]
  },
  {
   "cell_type": "code",
   "execution_count": 21,
   "id": "94f18252-c186-4dc2-b4b2-5dcc3bdadfb0",
   "metadata": {},
   "outputs": [
    {
     "data": {
      "text/plain": [
       "[('He', None), ('He', 'by 5 pm')]"
      ]
     },
     "execution_count": 21,
     "metadata": {},
     "output_type": "execute_result"
    }
   ],
   "source": [
    "who_when_info = get_who_and_when_info_for_all_tasks(categorized_tasks)\n",
    "who_when_info "
   ]
  },
  {
   "cell_type": "markdown",
   "id": "7eda4b97-ef03-4231-b93f-08f390aa5901",
   "metadata": {},
   "source": [
    "# Step 4: Generate final JSON output"
   ]
  },
  {
   "cell_type": "code",
   "execution_count": 16,
   "id": "e69bc9f5-424c-47f3-91fe-43f6d15f50e1",
   "metadata": {},
   "outputs": [],
   "source": [
    "import json\n",
    "\n",
    "def generate_final_output_json(who_when_info, categorized_tasks):\n",
    "    final_output = []\n",
    "    for (who, when), (task, category) in zip(who_when_info, categorized_tasks):\n",
    "        final_output.append({\n",
    "            \"Task\": task[\"task\"],\n",
    "            \"Who\": who,\n",
    "            \"When\": when,\n",
    "            \"Category\": category\n",
    "        })\n",
    "    return json.dumps(final_output, indent=4) \n"
   ]
  },
  {
   "cell_type": "code",
   "execution_count": 17,
   "id": "bb230f56-c250-443c-a44b-2431e8017105",
   "metadata": {},
   "outputs": [
    {
     "name": "stdout",
     "output_type": "stream",
     "text": [
      "[\n",
      "    {\n",
      "        \"Task\": \"buy the snacks for all of us.\",\n",
      "        \"Who\": \"He\",\n",
      "        \"When\": null,\n",
      "        \"Category\": \"Personal\"\n",
      "    },\n",
      "    {\n",
      "        \"Task\": \"submit his assignment by 5 pm.\",\n",
      "        \"Who\": \"He\",\n",
      "        \"When\": \"by 5 pm\",\n",
      "        \"Category\": \"Academic\"\n",
      "    }\n",
      "]\n"
     ]
    }
   ],
   "source": [
    "text = \"\"\"Rahul wakes up early every day. He goes to college in the morning and comes back at 3 pm.\n",
    "At present, Rahul is outside. He has to buy the snacks for all of us. \n",
    "He also needs to submit his assignment by 5 pm.\"\"\"\n",
    "\n",
    "extracted_tasks = extract_tasks_from_text(text)\n",
    "categorized_tasks = categorize_all_extracted_tasks(extracted_tasks)\n",
    "who_when_info = get_who_and_when_info_for_all_tasks(categorized_tasks)\n",
    "final_output_json = generate_final_output_json(who_when_info, categorized_tasks)\n",
    "print(final_output_json)"
   ]
  },
  {
   "cell_type": "code",
   "execution_count": null,
   "id": "b346e9d3-5b44-4de2-bbb1-add290562ddc",
   "metadata": {},
   "outputs": [],
   "source": []
  },
  {
   "cell_type": "code",
   "execution_count": null,
   "id": "a6e0c004-3f93-4642-b4ae-e2df19d34df7",
   "metadata": {},
   "outputs": [],
   "source": []
  }
 ],
 "metadata": {
  "kernelspec": {
   "display_name": "Python 3 (ipykernel)",
   "language": "python",
   "name": "python3"
  },
  "language_info": {
   "codemirror_mode": {
    "name": "ipython",
    "version": 3
   },
   "file_extension": ".py",
   "mimetype": "text/x-python",
   "name": "python",
   "nbconvert_exporter": "python",
   "pygments_lexer": "ipython3",
   "version": "3.11.7"
  }
 },
 "nbformat": 4,
 "nbformat_minor": 5
}
